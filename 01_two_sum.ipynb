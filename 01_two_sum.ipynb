{
  "nbformat": 4,
  "nbformat_minor": 0,
  "metadata": {
    "colab": {
      "provenance": [],
      "gpuType": "T4",
      "authorship_tag": "ABX9TyNg2Ma+pc05YzcMvVP/rMyB",
      "include_colab_link": true
    },
    "kernelspec": {
      "name": "python3",
      "display_name": "Python 3"
    },
    "language_info": {
      "name": "python"
    },
    "accelerator": "GPU"
  },
  "cells": [
    {
      "cell_type": "markdown",
      "metadata": {
        "id": "view-in-github",
        "colab_type": "text"
      },
      "source": [
        "<a href=\"https://colab.research.google.com/github/gracialukelo/da_solutions/blob/main/01_two_sum.ipynb\" target=\"_parent\"><img src=\"https://colab.research.google.com/assets/colab-badge.svg\" alt=\"Open In Colab\"/></a>"
      ]
    },
    {
      "cell_type": "markdown",
      "source": [
        "https://docs.google.com/spreadsheets/d/1A2PaQKcdwO_lwxz9bAnxXnIQayCouZP6d-ENrBz_NXc/edit?pli=1&gid=0#gid=0"
      ],
      "metadata": {
        "id": "AU9SX4zqQXJ3"
      }
    },
    {
      "cell_type": "code",
      "source": [
        "def twoSum(self, nums: List[int], target: int) -> List[int]:\n",
        "        num_to_index = {}\n",
        "        for i, num in enumerate(nums):\n",
        "            complement = target - num\n",
        "            if complement in num_to_index:\n",
        "                return [num_to_index[complement], i]\n",
        "            num_to_index[num] = i\n",
        "        return []"
      ],
      "metadata": {
        "id": "42732jTlQOZK"
      },
      "execution_count": null,
      "outputs": []
    },
    {
      "cell_type": "code",
      "source": [],
      "metadata": {
        "id": "nB49aQj3QVTt"
      },
      "execution_count": null,
      "outputs": []
    }
  ]
}